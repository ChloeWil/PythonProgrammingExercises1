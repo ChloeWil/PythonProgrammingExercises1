{
 "cells": [
  {
   "cell_type": "markdown",
   "metadata": {},
   "source": [
    "# Jupyter Practice Notebook\n",
    "\n",
    "A jupyter notebook is made of cells that are either\n",
    "\n",
    "1. Python code (Jupyter does support other languages but we’ll start with Python 3.x)\n",
    "\n",
    "2. Text formatted in Markdown\n",
    "\n",
    "To make a new cell use **SHIFT+ENTER** (or from the Menu : Insert >> Insert Cell Below)\n",
    "\n",
    "By default new cells are CODE cells. Press **CTRL+ENTER** to run code cells\n",
    "\n",
    "To make them markdown (md) cell press **ESC** then **m**\n"
   ]
  },
  {
   "cell_type": "code",
   "execution_count": 3,
   "metadata": {},
   "outputs": [
    {
     "name": "stdout",
     "output_type": "stream",
     "text": [
      "hello world. STOP\n",
      "22\n"
     ]
    }
   ],
   "source": [
    "#this is a code cell. Use CRTL+ENTER to run \n",
    "print(\"hello world. STOP\")\n",
    "a=2\n",
    "b=5\n",
    "c=4\n",
    "print(a+b*c)"
   ]
  },
  {
   "cell_type": "markdown",
   "metadata": {},
   "source": [
    "# Heading 1\n",
    "\n",
    "## heading 2\n",
    "\n",
    "1. numbered\n",
    "2. list\n",
    "\n",
    "You can also write Python formatted text in markdown (it won't run!):\n",
    "```python\n",
    "print(\"hello world\")\n",
    "```\n",
    "\n",
    "**bold** *italics* _also italics_  __also bold__\n",
    "\n",
    "[links work like this](http://google.com)\n",
    "\n",
    "[here is a link to a github markdown cheatsheet that works with github and jupyter](https://github.com/adam-p/markdown-here/wiki/Markdown-Cheatsheet)\n",
    "\n",
    "[Jupyter uses a flavour of md called pandoc....](http://rmarkdown.rstudio.com/authoring_pandoc_markdown.html)\n",
    "\n",
    "\n",
    "| This | is   | a | table |\n",
    "|:------|:------|:----:|----:|\n",
    "|  left align | left|center| right|\n",
    "\n"
   ]
  },
  {
   "cell_type": "code",
   "execution_count": 4,
   "metadata": {},
   "outputs": [
    {
     "name": "stdout",
     "output_type": "stream",
     "text": [
      "you are NOT fred\n"
     ]
    }
   ],
   "source": [
    "#more code\n",
    "name = \"Romana\"\n",
    "\n",
    "if name == \"fred\":\n",
    "    print(\"hello Fred!!\")\n",
    "else:\n",
    "    print(\"you are NOT fred\")"
   ]
  },
  {
   "cell_type": "markdown",
   "metadata": {},
   "source": [
    "## Jupyter Practice Task\n",
    "\n",
    "Write a few things you know (or research) about introductory Python programming. Think about what you would teach a beginner. You can use as many cells as you want/need\n",
    "\n",
    "Make sure you've done all of the following in Jupyter:\n",
    "\n",
    "1. Made new cells or inserted new cells\n",
    "\n",
    "2. Have a number of code cells\n",
    "\n",
    "3. Run the code cells\n",
    "\n",
    "4. Made a number of markdown cells\n",
    "\n",
    "5. Write some markdown\n",
    "\n",
    "6. Make sure you have used all  of the following features of markdown including\n",
    "\n",
    "  6. Headings\n",
    "  6. Lists (and sublists like this one!)\n",
    "  6. Python formatted code\n",
    "  6. Italics and/or bold\n",
    "  6. links\n",
    "  "
   ]
  },
  {
   "cell_type": "code",
   "execution_count": 6,
   "metadata": {},
   "outputs": [
    {
     "name": "stdout",
     "output_type": "stream",
     "text": [
      "That is not correct\n"
     ]
    }
   ],
   "source": [
    "catcolor = \"blue\"\n",
    "\n",
    "if catcolor == \"blue\":\n",
    "    print(\"That is not correct\")"
   ]
  },
  {
   "cell_type": "markdown",
   "metadata": {},
   "source": [
    "# What to do\n",
    "\n",
    "_OwO_ **UwU**\n",
    "\n",
    "[I cant remember commands](https://maker.pro/linux/tutorial/basic-linux-commands-for-beginners)"
   ]
  },
  {
   "cell_type": "code",
   "execution_count": 24,
   "metadata": {},
   "outputs": [],
   "source": [
    "cat = \"red\"\n",
    "\n",
    "dog = \"brown\"\n",
    "\n",
    "timing = 0\n"
   ]
  },
  {
   "cell_type": "code",
   "execution_count": 35,
   "metadata": {},
   "outputs": [
    {
     "name": "stdout",
     "output_type": "stream",
     "text": [
      "Heres a cat.\n",
      "0\n",
      "0\n",
      "1\n",
      "3\n",
      "6\n",
      "10\n",
      "15\n",
      "21\n",
      "28\n",
      "36\n",
      "...\n",
      "Congratulations it's red!\n"
     ]
    }
   ],
   "source": [
    "print(\"Heres a cat.\")\n",
    "\n",
    "for i in range(10):\n",
    "    print(timing)\n",
    "    timing = timing + i\n",
    "\n",
    "print(\"...\")\n",
    "    \n",
    "if cat == \"red\":\n",
    "    print(\"Congratulations it's red!\")\n",
    "    timing = 0"
   ]
  }
 ],
 "metadata": {
  "kernelspec": {
   "display_name": "Python 3",
   "language": "python",
   "name": "python3"
  },
  "language_info": {
   "codemirror_mode": {
    "name": "ipython",
    "version": 3
   },
   "file_extension": ".py",
   "mimetype": "text/x-python",
   "name": "python",
   "nbconvert_exporter": "python",
   "pygments_lexer": "ipython3",
   "version": "3.6.8"
  }
 },
 "nbformat": 4,
 "nbformat_minor": 2
}
